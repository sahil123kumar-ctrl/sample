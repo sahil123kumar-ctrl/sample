{
  "nbformat": 4,
  "nbformat_minor": 0,
  "metadata": {
    "colab": {
      "provenance": []
    },
    "kernelspec": {
      "name": "python3",
      "display_name": "Python 3"
    },
    "language_info": {
      "name": "python"
    }
  },
  "cells": [
    {
      "cell_type": "markdown",
      "source": [
        "**# printing patterns:**"
      ],
      "metadata": {
        "id": "MG0r7dA-X15D"
      }
    },
    {
      "cell_type": "code",
      "source": [],
      "metadata": {
        "id": "Vk9vO7SimWIE"
      },
      "execution_count": null,
      "outputs": []
    },
    {
      "cell_type": "code",
      "source": [
        "# pattern 1: # square pattern:\n",
        "\n",
        "n=int(input())\n",
        "for x in range(1,6):\n",
        "  for y in range(1,6):\n",
        "    print(\"*\",end=\" \")\n",
        "  print()"
      ],
      "metadata": {
        "colab": {
          "base_uri": "https://localhost:8080/"
        },
        "id": "1rD6Ai07X4fE",
        "outputId": "4b51a371-fed3-4eb4-8d14-6f47c9fb9841"
      },
      "execution_count": null,
      "outputs": [
        {
          "output_type": "stream",
          "name": "stdout",
          "text": [
            "6\n",
            "* * * * * \n",
            "* * * * * \n",
            "* * * * * \n",
            "* * * * * \n",
            "* * * * * \n"
          ]
        }
      ]
    },
    {
      "cell_type": "code",
      "source": [
        "# square pattern 2nd method:\n",
        "\n",
        "n = int(input())\n",
        "for i in range(n):\n",
        "  print(\"* \"*n)\n",
        "\n"
      ],
      "metadata": {
        "colab": {
          "base_uri": "https://localhost:8080/"
        },
        "id": "TesN1vC_YSVr",
        "outputId": "55640881-c770-4f3c-efaa-8ed999df8905"
      },
      "execution_count": null,
      "outputs": [
        {
          "output_type": "stream",
          "name": "stdout",
          "text": [
            "6\n",
            "* * * * * * \n",
            "* * * * * * \n",
            "* * * * * * \n",
            "* * * * * * \n",
            "* * * * * * \n",
            "* * * * * * \n"
          ]
        }
      ]
    },
    {
      "cell_type": "code",
      "source": [
        "# pattern 3:\n",
        "\n",
        "n=int(input())\n",
        "for x in range(1,n+1):\n",
        "  for y in range(1,n+1):\n",
        "    print(x,end=\" \")\n",
        "  print()"
      ],
      "metadata": {
        "colab": {
          "base_uri": "https://localhost:8080/"
        },
        "id": "X_xhQkYgYggS",
        "outputId": "a3f9ad35-e479-4d38-8d4f-d88caab1e7f1"
      },
      "execution_count": null,
      "outputs": [
        {
          "output_type": "stream",
          "name": "stdout",
          "text": [
            "5\n",
            "1 1 1 1 1 \n",
            "2 2 2 2 2 \n",
            "3 3 3 3 3 \n",
            "4 4 4 4 4 \n",
            "5 5 5 5 5 \n"
          ]
        }
      ]
    },
    {
      "cell_type": "code",
      "source": [
        "# pattern 3:\n",
        "\n",
        "n=int(input())\n",
        "for i in range(1,n+1):\n",
        "  for y in range(1,n+1):\n",
        "    print(y,end=\" \")\n",
        "  print()"
      ],
      "metadata": {
        "colab": {
          "base_uri": "https://localhost:8080/"
        },
        "id": "1cjKCX_MYgiy",
        "outputId": "053b89b0-efdd-464b-abb5-f18399bab065"
      },
      "execution_count": null,
      "outputs": [
        {
          "output_type": "stream",
          "name": "stdout",
          "text": [
            "4\n",
            "1 2 3 4 \n",
            "1 2 3 4 \n",
            "1 2 3 4 \n",
            "1 2 3 4 \n"
          ]
        }
      ]
    },
    {
      "cell_type": "code",
      "source": [
        "# pattern 4:\n",
        "\n",
        "n=int(input())\n",
        "for x in range(1,n+1):\n",
        "  for y in range(n,0,-1):\n",
        "    print(y,end=\" \")\n",
        "  print()"
      ],
      "metadata": {
        "colab": {
          "base_uri": "https://localhost:8080/"
        },
        "id": "InttVvEXYgmE",
        "outputId": "cbb47021-08cc-4091-9f97-f3bfb8f7ea69"
      },
      "execution_count": null,
      "outputs": [
        {
          "output_type": "stream",
          "name": "stdout",
          "text": [
            "5\n",
            "5 4 3 2 1 \n",
            "5 4 3 2 1 \n",
            "5 4 3 2 1 \n",
            "5 4 3 2 1 \n",
            "5 4 3 2 1 \n"
          ]
        }
      ]
    },
    {
      "cell_type": "code",
      "source": [
        "# pattern 5 :\n",
        "n=int(input())\n",
        "for x in range(n,0,-1):\n",
        "  for y in range(1,n+1):\n",
        "    print(x,end=\" \")\n",
        "  print()\n"
      ],
      "metadata": {
        "colab": {
          "base_uri": "https://localhost:8080/"
        },
        "id": "FfYbMWyhcKzH",
        "outputId": "0d4dc153-8b9c-42df-f4b8-4895b0818583"
      },
      "execution_count": null,
      "outputs": [
        {
          "output_type": "stream",
          "name": "stdout",
          "text": [
            "5\n",
            "5 5 5 5 5 \n",
            "4 4 4 4 4 \n",
            "3 3 3 3 3 \n",
            "2 2 2 2 2 \n",
            "1 1 1 1 1 \n"
          ]
        }
      ]
    },
    {
      "cell_type": "code",
      "source": [
        "# pattern 5 another method:\n",
        "n=int(input())\n",
        "for x in range(n,0,-1):\n",
        "  for y in range(n,0,-1):\n",
        "    print(x,end=\" \")\n",
        "  print()"
      ],
      "metadata": {
        "colab": {
          "base_uri": "https://localhost:8080/"
        },
        "id": "a4Ws9fucci7t",
        "outputId": "27baa1be-059c-4d6c-eeb9-2bbcd235047f"
      },
      "execution_count": null,
      "outputs": [
        {
          "output_type": "stream",
          "name": "stdout",
          "text": [
            "5\n",
            "5 5 5 5 5 \n",
            "4 4 4 4 4 \n",
            "3 3 3 3 3 \n",
            "2 2 2 2 2 \n",
            "1 1 1 1 1 \n"
          ]
        }
      ]
    },
    {
      "cell_type": "code",
      "source": [
        "# pattern 6:\n",
        "n=int(input())\n",
        "k=1\n",
        "for i in range(1,n+1):\n",
        "  for y in range(1,n+1):\n",
        "    print(\"{:2d}\".format(k),end=\" \")  # simply the \"{:2d}\".format{k} gives the proper spacing:\n",
        "    k=k+1\n",
        "  print()"
      ],
      "metadata": {
        "colab": {
          "base_uri": "https://localhost:8080/"
        },
        "id": "WnGLhEeFc0L3",
        "outputId": "acc6fb10-f448-40af-b04a-ed695d156805"
      },
      "execution_count": null,
      "outputs": [
        {
          "output_type": "stream",
          "name": "stdout",
          "text": [
            "5\n",
            " 1  2  3  4  5 \n",
            " 6  7  8  9 10 \n",
            "11 12 13 14 15 \n",
            "16 17 18 19 20 \n",
            "21 22 23 24 25 \n"
          ]
        }
      ]
    },
    {
      "cell_type": "code",
      "source": [
        "# pattern 7:\n",
        "\n",
        "n=int(input())\n",
        "k=1\n",
        "for i in range(1,n+1):\n",
        "  for y in range(1,n+1):\n",
        "    print(\"{:2d}\".format(k),end=\" \" )\n",
        "    k=k+2\n",
        "  print()"
      ],
      "metadata": {
        "colab": {
          "base_uri": "https://localhost:8080/"
        },
        "id": "Do20KRHndo9I",
        "outputId": "4ba650b3-6964-4850-ab75-d5b310f41020"
      },
      "execution_count": null,
      "outputs": [
        {
          "output_type": "stream",
          "name": "stdout",
          "text": [
            "5\n",
            " 1  3  5  7  9 \n",
            "11 13 15 17 19 \n",
            "21 23 25 27 29 \n",
            "31 33 35 37 39 \n",
            "41 43 45 47 49 \n"
          ]
        }
      ]
    },
    {
      "cell_type": "code",
      "source": [
        "# pattern 8:\n",
        "\n",
        "n=int(input())\n",
        "k=2\n",
        "for x in range(1,n+1):\n",
        "  for y in range(1,n+1):\n",
        "    print(\"{:2d}\".format(k),end=\" \")\n",
        "    k=k+2\n",
        "  print()\n"
      ],
      "metadata": {
        "colab": {
          "base_uri": "https://localhost:8080/"
        },
        "id": "9PCj6YhyeQNl",
        "outputId": "580babae-aa28-494a-ec51-f93d46b9411e"
      },
      "execution_count": null,
      "outputs": [
        {
          "output_type": "stream",
          "name": "stdout",
          "text": [
            "5\n",
            " 2  4  6  8 10 \n",
            "12 14 16 18 20 \n",
            "22 24 26 28 30 \n",
            "32 34 36 38 40 \n",
            "42 44 46 48 50 \n"
          ]
        }
      ]
    },
    {
      "cell_type": "code",
      "source": [
        "# pattern 9 :\n",
        "\n",
        "n=int(input())\n",
        "k=int(input())\n",
        "for x in range(1,n+1):\n",
        "  for y in range(1,n+1):\n",
        "    print(\"{:2d}\".format(k),end=\" \")\n",
        "    k=k+5 # k ka increment and decrement:\n",
        "  print()"
      ],
      "metadata": {
        "colab": {
          "base_uri": "https://localhost:8080/"
        },
        "id": "fF5U3jdEfFuH",
        "outputId": "9c3baffa-bf23-44d4-8d02-b8da9dc9e278"
      },
      "execution_count": null,
      "outputs": [
        {
          "output_type": "stream",
          "name": "stdout",
          "text": [
            "5\n",
            "5\n",
            " 5 10 15 20 25 \n",
            "30 35 40 45 50 \n",
            "55 60 65 70 75 \n",
            "80 85 90 95 100 \n",
            "105 110 115 120 125 \n"
          ]
        }
      ]
    },
    {
      "cell_type": "code",
      "source": [
        "# pattern 10:\n",
        "\n",
        "# Outer loop for rows\n",
        "for i in range(1, 6):  # Rows from 1 to 5\n",
        "    # Inner loop for columns\n",
        "    for j in range(1, 6):  # Columns from 1 to 5\n",
        "        print(i * j,end=\"\\t\")  # Multiply and print with a tab space\n",
        "    print()  # Move to the next line after each row\n"
      ],
      "metadata": {
        "colab": {
          "base_uri": "https://localhost:8080/"
        },
        "id": "p5DrBxtjhK1z",
        "outputId": "e1c273ae-96f1-437c-8305-287e4bf64c78"
      },
      "execution_count": null,
      "outputs": [
        {
          "output_type": "stream",
          "name": "stdout",
          "text": [
            "1\t2\t3\t4\t5\t\n",
            "2\t4\t6\t8\t10\t\n",
            "3\t6\t9\t12\t15\t\n",
            "4\t8\t12\t16\t20\t\n",
            "5\t10\t15\t20\t25\t\n"
          ]
        }
      ]
    },
    {
      "cell_type": "code",
      "source": [
        "# pattern 11:\n",
        "\n",
        "n=int(input())\n",
        "\n",
        "for x in range(1,n+1):\n",
        "  for y in range(1,n+1):\n",
        "    print(x*y,end=\"\\t\")\n",
        "  print()"
      ],
      "metadata": {
        "colab": {
          "base_uri": "https://localhost:8080/"
        },
        "id": "YysQGY3RkFiD",
        "outputId": "5159e9f2-ef03-4f32-e63e-d884b0b9ce1a"
      },
      "execution_count": null,
      "outputs": [
        {
          "output_type": "stream",
          "name": "stdout",
          "text": [
            "5\n",
            "1\t2\t3\t4\t5\t\n",
            "2\t4\t6\t8\t10\t\n",
            "3\t6\t9\t12\t15\t\n",
            "4\t8\t12\t16\t20\t\n",
            "5\t10\t15\t20\t25\t\n"
          ]
        }
      ]
    },
    {
      "cell_type": "code",
      "source": [
        "# pattern 12:\n",
        "\n",
        "for x in range(1,6):\n",
        "  for y in range(1,4):\n",
        "    print(\"{} {}\".format(y,x),end=\" \")\n",
        "  print()"
      ],
      "metadata": {
        "colab": {
          "base_uri": "https://localhost:8080/"
        },
        "id": "vSyqGGuak8ag",
        "outputId": "11fc09ef-a973-44e9-ac66-b435defaf6c1"
      },
      "execution_count": null,
      "outputs": [
        {
          "output_type": "stream",
          "name": "stdout",
          "text": [
            "1 1 2 1 3 1 \n",
            "1 2 2 2 3 2 \n",
            "1 3 2 3 3 3 \n",
            "1 4 2 4 3 4 \n",
            "1 5 2 5 3 5 \n"
          ]
        }
      ]
    },
    {
      "cell_type": "code",
      "source": [
        "# pattern 13 : # it is the reverse of the above pattern ,sirf x and y ko interchange kiya hai:\n",
        "\n",
        "for x in range(1,6):\n",
        "  for y in range(1,4):\n",
        "    print(\"{} {}\".format(x,y),end=\" \")\n",
        "  print()"
      ],
      "metadata": {
        "colab": {
          "base_uri": "https://localhost:8080/"
        },
        "id": "EO1GB--pk8Xf",
        "outputId": "3991d640-bea3-49fd-d764-82cd68b161d7"
      },
      "execution_count": null,
      "outputs": [
        {
          "output_type": "stream",
          "name": "stdout",
          "text": [
            "1 1 1 2 1 3 \n",
            "2 1 2 2 2 3 \n",
            "3 1 3 2 3 3 \n",
            "4 1 4 2 4 3 \n",
            "5 1 5 2 5 3 \n"
          ]
        }
      ]
    },
    {
      "cell_type": "code",
      "source": [
        "# pattern 14 :\n",
        "\n",
        "n=int(input())\n",
        "for x in range(1,n+1):\n",
        "  for y in range(1,n+1):\n",
        "    print(\"{} {}\".format(x,y),end=\" \")\n",
        "  print()\n"
      ],
      "metadata": {
        "colab": {
          "base_uri": "https://localhost:8080/"
        },
        "id": "xC5KsWY6onpA",
        "outputId": "d184df15-677c-462b-cb69-ccddd927cbb2"
      },
      "execution_count": null,
      "outputs": [
        {
          "output_type": "stream",
          "name": "stdout",
          "text": [
            "5\n",
            "1 1 1 2 1 3 1 4 1 5 \n",
            "2 1 2 2 2 3 2 4 2 5 \n",
            "3 1 3 2 3 3 3 4 3 5 \n",
            "4 1 4 2 4 3 4 4 4 5 \n",
            "5 1 5 2 5 3 5 4 5 5 \n"
          ]
        }
      ]
    },
    {
      "cell_type": "code",
      "source": [
        "# pattern 15:\n",
        "# important: value=i+j*5\n",
        "\n",
        "for i in range(1,6):\n",
        "  for j in range(0,5):\n",
        "    print(i+j*5,end=\"\\t\")\n",
        "  print()"
      ],
      "metadata": {
        "colab": {
          "base_uri": "https://localhost:8080/"
        },
        "id": "LzIz4vOak8Ug",
        "outputId": "a0de9d82-8890-488b-b53e-b888b7b5a9fd"
      },
      "execution_count": null,
      "outputs": [
        {
          "output_type": "stream",
          "name": "stdout",
          "text": [
            "1\t6\t11\t16\t21\t\n",
            "2\t7\t12\t17\t22\t\n",
            "3\t8\t13\t18\t23\t\n",
            "4\t9\t14\t19\t24\t\n",
            "5\t10\t15\t20\t25\t\n"
          ]
        }
      ]
    },
    {
      "cell_type": "code",
      "source": [
        "for i in range(1,6):\n",
        "  for j in range(1,6):\n",
        "    print(i+j*5,end=\"\\t\")\n",
        "  print()"
      ],
      "metadata": {
        "colab": {
          "base_uri": "https://localhost:8080/"
        },
        "id": "ngBZ_2NVk8Nd",
        "outputId": "1cd15b7a-5bf8-4cd3-cc7b-5049d7b77c11"
      },
      "execution_count": null,
      "outputs": [
        {
          "output_type": "stream",
          "name": "stdout",
          "text": [
            "6\t11\t16\t21\t26\t\n",
            "7\t12\t17\t22\t27\t\n",
            "8\t13\t18\t23\t28\t\n",
            "9\t14\t19\t24\t29\t\n",
            "10\t15\t20\t25\t30\t\n"
          ]
        }
      ]
    },
    {
      "cell_type": "code",
      "source": [
        "# pattern 16:\n",
        "# Outer loop for rows\n",
        "for i in range(1, 6):  # Rows (1 to 5)\n",
        "    # Inner loop for columns\n",
        "    for j in range(0, 5):  # Columns (0 to 4)\n",
        "        if j % 2 == 0:  # For odd-indexed columns (1-based), increment i\n",
        "            print(i + j * 5, end=\"\\t\")\n",
        "        else:  # For even-indexed columns (0-based), decrement i\n",
        "\n",
        "            print((5 - i + 1) + j * 5, end=\"\\t\")  # Calculate reversed row value\n",
        "    print()  # Move to the next line after completing a row\n"
      ],
      "metadata": {
        "colab": {
          "base_uri": "https://localhost:8080/"
        },
        "id": "5JX6XJblk8En",
        "outputId": "0774db08-ec5d-4fa1-818d-ccdb33dab9f5"
      },
      "execution_count": null,
      "outputs": [
        {
          "output_type": "stream",
          "name": "stdout",
          "text": [
            "1\t10\t11\t20\t21\t\n",
            "2\t9\t12\t19\t22\t\n",
            "3\t8\t13\t18\t23\t\n",
            "4\t7\t14\t17\t24\t\n",
            "5\t6\t15\t16\t25\t\n"
          ]
        }
      ]
    },
    {
      "cell_type": "code",
      "source": [
        "# pattern 17:\n",
        "for i in range(5,0,-1):\n",
        "  for j in range(0,5):\n",
        "    print(i+j*5,end=\"\\t\")\n",
        "  print()"
      ],
      "metadata": {
        "colab": {
          "base_uri": "https://localhost:8080/"
        },
        "id": "z3zmISZQ_EFA",
        "outputId": "bc1efa8a-1506-4974-ae4a-bd018c176fdc"
      },
      "execution_count": null,
      "outputs": [
        {
          "output_type": "stream",
          "name": "stdout",
          "text": [
            "5\t10\t15\t20\t25\t\n",
            "4\t9\t14\t19\t24\t\n",
            "3\t8\t13\t18\t23\t\n",
            "2\t7\t12\t17\t22\t\n",
            "1\t6\t11\t16\t21\t\n"
          ]
        }
      ]
    },
    {
      "cell_type": "code",
      "source": [
        "# printing pattern 18:\n",
        "\n",
        "# Outer loop for rows (reversed order)\n",
        "for i in range(5, 0, -1):  # Rows from 5 to 1\n",
        "    # Inner loop for columns\n",
        "    for j in range(5):  # Columns (0 to 4)\n",
        "        if j % 2 == 0:  # For even columns\n",
        "            print(i + j * 5, end=\"\\t\")\n",
        "        else:  # For odd columns\n",
        "            print((6 - i) + j * 5, end=\"\\t\")\n",
        "    print()  # Move to the next line after completing a row\n"
      ],
      "metadata": {
        "colab": {
          "base_uri": "https://localhost:8080/"
        },
        "id": "jh1qV2Zg_ECg",
        "outputId": "74cc15b4-dac1-4387-8f17-2f4603d784b8"
      },
      "execution_count": null,
      "outputs": [
        {
          "output_type": "stream",
          "name": "stdout",
          "text": [
            "5\t6\t15\t16\t25\t\n",
            "4\t7\t14\t17\t24\t\n",
            "3\t8\t13\t18\t23\t\n",
            "2\t9\t12\t19\t22\t\n",
            "1\t10\t11\t20\t21\t\n"
          ]
        }
      ]
    },
    {
      "cell_type": "code",
      "source": [
        "#printing pattern 19:\n",
        "# Code to print the pattern\n",
        "n = 5  # Size of the matrix\n",
        "\n",
        "for i in range(n):  # Loop for rows\n",
        "    for j in range(n):  # Loop for columns\n",
        "        # Print the odd number based on the row and column indices\n",
        "        print(2 * (i + j) + 1, end=\" \")\n",
        "    print()  # Move to the next line after each row\n",
        "\n",
        "\n"
      ],
      "metadata": {
        "id": "sqXi8YMJ_D_-",
        "colab": {
          "base_uri": "https://localhost:8080/"
        },
        "outputId": "f54b4e15-796c-4389-95ab-5c192c290003"
      },
      "execution_count": null,
      "outputs": [
        {
          "output_type": "stream",
          "name": "stdout",
          "text": [
            "1 3 5 7 9 \n",
            "3 5 7 9 11 \n",
            "5 7 9 11 13 \n",
            "7 9 11 13 15 \n",
            "9 11 13 15 17 \n"
          ]
        }
      ]
    },
    {
      "cell_type": "code",
      "source": [
        "n=5\n",
        "for i in range(n):\n",
        "  for j in range(n):\n",
        "    print(2*(i+j)+1,end=\" \")\n",
        "  print()"
      ],
      "metadata": {
        "id": "UhcdqzvS_D9f",
        "colab": {
          "base_uri": "https://localhost:8080/"
        },
        "outputId": "54c6255f-88b1-4289-ab19-d494d9041701"
      },
      "execution_count": null,
      "outputs": [
        {
          "output_type": "stream",
          "name": "stdout",
          "text": [
            "1 3 5 7 9 \n",
            "3 5 7 9 11 \n",
            "5 7 9 11 13 \n",
            "7 9 11 13 15 \n",
            "9 11 13 15 17 \n"
          ]
        }
      ]
    },
    {
      "cell_type": "code",
      "source": [
        "# pattern 20:\n",
        "n=5\n",
        "for x in range(n):\n",
        "  for y in range(n):\n",
        "    print((x+y)%2,end=\" \")\n",
        "  print()"
      ],
      "metadata": {
        "colab": {
          "base_uri": "https://localhost:8080/"
        },
        "id": "wEvwfQhqiXAx",
        "outputId": "e1487c86-d893-4bc1-c1fc-7ca85e34e7f9"
      },
      "execution_count": null,
      "outputs": [
        {
          "output_type": "stream",
          "name": "stdout",
          "text": [
            "0 1 0 1 0 \n",
            "1 0 1 0 1 \n",
            "0 1 0 1 0 \n",
            "1 0 1 0 1 \n",
            "0 1 0 1 0 \n"
          ]
        }
      ]
    },
    {
      "cell_type": "code",
      "source": [
        "n=int(input())\n",
        "for x in range(n):\n",
        "  for y in range(n):\n",
        "    print((x+y)%2,end=\" \")\n",
        "  print()"
      ],
      "metadata": {
        "colab": {
          "base_uri": "https://localhost:8080/"
        },
        "id": "7HyNVPzhi8xq",
        "outputId": "f923f681-ea76-4de1-845c-1d04e87287bb"
      },
      "execution_count": null,
      "outputs": [
        {
          "output_type": "stream",
          "name": "stdout",
          "text": [
            "4\n",
            "0 1 0 1 \n",
            "1 0 1 0 \n",
            "0 1 0 1 \n",
            "1 0 1 0 \n"
          ]
        }
      ]
    },
    {
      "cell_type": "code",
      "source": [
        "# pattern 21:\n",
        "n=5\n",
        "for x in range(1,n+1):\n",
        "  for y in range(0,n):\n",
        "    print((x+y)%2,end=\" \")\n",
        "  print()"
      ],
      "metadata": {
        "colab": {
          "base_uri": "https://localhost:8080/"
        },
        "id": "o8hbJyAAjJy3",
        "outputId": "0d1dea1d-0453-461c-e85f-4598e53f597c"
      },
      "execution_count": null,
      "outputs": [
        {
          "output_type": "stream",
          "name": "stdout",
          "text": [
            "1 0 1 0 1 \n",
            "0 1 0 1 0 \n",
            "1 0 1 0 1 \n",
            "0 1 0 1 0 \n",
            "1 0 1 0 1 \n"
          ]
        }
      ]
    },
    {
      "cell_type": "code",
      "source": [
        "# pattern 22:\n",
        "n=int(input())\n",
        "for x in range(1,n+1):\n",
        "  for y in range(0,n):\n",
        "    print((x+y)%2,end=\" \")\n",
        "  print()\n"
      ],
      "metadata": {
        "colab": {
          "base_uri": "https://localhost:8080/"
        },
        "id": "Nuvo79iejsbc",
        "outputId": "6ef6f62b-720f-43ee-cec0-35ad7c013375"
      },
      "execution_count": null,
      "outputs": [
        {
          "output_type": "stream",
          "name": "stdout",
          "text": [
            "4\n",
            "1 0 1 0 \n",
            "0 1 0 1 \n",
            "1 0 1 0 \n",
            "0 1 0 1 \n"
          ]
        }
      ]
    },
    {
      "cell_type": "code",
      "source": [
        "n=5\n",
        "for x in range(1,n+1):\n",
        "  for y in range(1,n+1):\n",
        "    print((x*y)%2,end=\" \")\n",
        "  print()"
      ],
      "metadata": {
        "colab": {
          "base_uri": "https://localhost:8080/"
        },
        "id": "jM7VRrsCkMpu",
        "outputId": "ca14c0e8-e172-4457-8dd8-a106bd0461ab"
      },
      "execution_count": null,
      "outputs": [
        {
          "output_type": "stream",
          "name": "stdout",
          "text": [
            "1 0 1 0 1 \n",
            "0 0 0 0 0 \n",
            "1 0 1 0 1 \n",
            "0 0 0 0 0 \n",
            "1 0 1 0 1 \n"
          ]
        }
      ]
    },
    {
      "cell_type": "code",
      "source": [
        "# pattern 23:\n",
        "n=5\n",
        "for x in range(0,n):\n",
        "  for y in range(1,n+1):\n",
        "    print(x%2,end=\" \")\n",
        "  print()"
      ],
      "metadata": {
        "colab": {
          "base_uri": "https://localhost:8080/"
        },
        "id": "u0Kj3WF0knf_",
        "outputId": "ef4fffd0-c17c-4186-82c6-415d6798b390"
      },
      "execution_count": null,
      "outputs": [
        {
          "output_type": "stream",
          "name": "stdout",
          "text": [
            "0 0 0 0 0 \n",
            "1 1 1 1 1 \n",
            "0 0 0 0 0 \n",
            "1 1 1 1 1 \n",
            "0 0 0 0 0 \n"
          ]
        }
      ]
    },
    {
      "cell_type": "code",
      "source": [
        "# pattern 24:\n",
        "n=5\n",
        "for x in range(1,n+1):\n",
        "  for y in range(1,n+1):\n",
        "    print(x%2,end=\" \")\n",
        "  print()"
      ],
      "metadata": {
        "colab": {
          "base_uri": "https://localhost:8080/"
        },
        "id": "KQdKe-PBliPN",
        "outputId": "5768dbbc-d85b-4886-cfa4-d632abe71dc4"
      },
      "execution_count": null,
      "outputs": [
        {
          "output_type": "stream",
          "name": "stdout",
          "text": [
            "1 1 1 1 1 \n",
            "0 0 0 0 0 \n",
            "1 1 1 1 1 \n",
            "0 0 0 0 0 \n",
            "1 1 1 1 1 \n"
          ]
        }
      ]
    },
    {
      "cell_type": "code",
      "source": [
        "# pattern 25\n",
        "n=5\n",
        "for x in range(1,n+1):\n",
        "  for y in range(0,n):\n",
        "    print(y%2,end=\" \")\n",
        "  print()"
      ],
      "metadata": {
        "colab": {
          "base_uri": "https://localhost:8080/"
        },
        "id": "ziiDp1PalwfI",
        "outputId": "469ad8e9-9d0c-4ad8-c8c4-fd51b7bf5af4"
      },
      "execution_count": null,
      "outputs": [
        {
          "output_type": "stream",
          "name": "stdout",
          "text": [
            "0 1 0 1 0 \n",
            "0 1 0 1 0 \n",
            "0 1 0 1 0 \n",
            "0 1 0 1 0 \n",
            "0 1 0 1 0 \n"
          ]
        }
      ]
    },
    {
      "cell_type": "code",
      "source": [
        "# pattern 26\n",
        "n=5\n",
        "for x in range(1,n+1):\n",
        "  for y in range(1,n+1):\n",
        "    print(y%2,end=\" \")\n",
        "  print()"
      ],
      "metadata": {
        "colab": {
          "base_uri": "https://localhost:8080/"
        },
        "id": "vsa0R2S6mBE_",
        "outputId": "09de5539-f306-48d4-a45c-5495f9d47cce"
      },
      "execution_count": null,
      "outputs": [
        {
          "output_type": "stream",
          "name": "stdout",
          "text": [
            "1 0 1 0 1 \n",
            "1 0 1 0 1 \n",
            "1 0 1 0 1 \n",
            "1 0 1 0 1 \n",
            "1 0 1 0 1 \n"
          ]
        }
      ]
    },
    {
      "cell_type": "markdown",
      "source": [
        "# alphabet pattern:\n"
      ],
      "metadata": {
        "id": "pPDNhopa0ztn"
      }
    },
    {
      "cell_type": "code",
      "source": [
        "# pattern 27:\n",
        "\n",
        "for x in range(65,70):\n",
        "  for y in range(1,6):\n",
        "    print(chr(x),end=\" \")\n",
        "  print()\n",
        "\n"
      ],
      "metadata": {
        "id": "hd-az2bbmRgw",
        "colab": {
          "base_uri": "https://localhost:8080/"
        },
        "outputId": "6f59c9eb-2d6e-4cbd-9b87-f5bde45a9e14"
      },
      "execution_count": null,
      "outputs": [
        {
          "output_type": "stream",
          "name": "stdout",
          "text": [
            "A A A A A \n",
            "B B B B B \n",
            "C C C C C \n",
            "D D D D D \n",
            "E E E E E \n"
          ]
        }
      ]
    },
    {
      "cell_type": "code",
      "source": [
        "# another method:\n",
        "for x in 'ABCDE':\n",
        "  for y in 'ABCDE':\n",
        "    print(x,end=\" \")\n",
        "  print()"
      ],
      "metadata": {
        "colab": {
          "base_uri": "https://localhost:8080/"
        },
        "id": "8kRtSdFD2BAt",
        "outputId": "dcc8e442-6e8b-4556-c765-e6743773ea13"
      },
      "execution_count": null,
      "outputs": [
        {
          "output_type": "stream",
          "name": "stdout",
          "text": [
            "A A A A A \n",
            "B B B B B \n",
            "C C C C C \n",
            "D D D D D \n",
            "E E E E E \n"
          ]
        }
      ]
    },
    {
      "cell_type": "code",
      "source": [
        "# pattern 28:\n",
        "for x in 'ABCDE':\n",
        "  for y in 'ABCDE':\n",
        "    print(y,end=\" \")\n",
        "  print()\n"
      ],
      "metadata": {
        "colab": {
          "base_uri": "https://localhost:8080/"
        },
        "id": "52uqC72h2JP2",
        "outputId": "c5635cba-f0aa-4936-cf71-68f34a0d0c9a"
      },
      "execution_count": null,
      "outputs": [
        {
          "output_type": "stream",
          "name": "stdout",
          "text": [
            "A B C D E \n",
            "A B C D E \n",
            "A B C D E \n",
            "A B C D E \n",
            "A B C D E \n"
          ]
        }
      ]
    },
    {
      "cell_type": "code",
      "source": [
        "# another method:\n",
        "for x in range(1,6):\n",
        "  for y in range(65,70):\n",
        "    print(chr(y),end=\" \")\n",
        "  print()"
      ],
      "metadata": {
        "colab": {
          "base_uri": "https://localhost:8080/"
        },
        "id": "73_K8PL83y-v",
        "outputId": "b11f3ee2-f733-4199-81cf-86d0db13b5c1"
      },
      "execution_count": null,
      "outputs": [
        {
          "output_type": "stream",
          "name": "stdout",
          "text": [
            "A B C D E \n",
            "A B C D E \n",
            "A B C D E \n",
            "A B C D E \n",
            "A B C D E \n"
          ]
        }
      ]
    },
    {
      "cell_type": "code",
      "source": [
        "# pattern 29:\n",
        "\n",
        "for x in 'EDCBA':\n",
        "  for y in 'EDCBA':\n",
        "    print(x,end=\" \")\n",
        "  print()"
      ],
      "metadata": {
        "colab": {
          "base_uri": "https://localhost:8080/"
        },
        "id": "LnhLVB4-3-vW",
        "outputId": "fab5acba-2226-4952-84c0-75dfb9d091b2"
      },
      "execution_count": null,
      "outputs": [
        {
          "output_type": "stream",
          "name": "stdout",
          "text": [
            "E E E E E \n",
            "D D D D D \n",
            "C C C C C \n",
            "B B B B B \n",
            "A A A A A \n"
          ]
        }
      ]
    },
    {
      "cell_type": "code",
      "source": [
        "# another method:\n",
        "\n",
        "for x in range(69,64,-1):\n",
        "  for y in range(1,6):\n",
        "    print(chr(x),end=\" \")\n",
        "  print()\n",
        "\n",
        "\n",
        "\n"
      ],
      "metadata": {
        "colab": {
          "base_uri": "https://localhost:8080/"
        },
        "id": "ee5H9R594Trn",
        "outputId": "57f5d29f-2e89-4b14-e963-6e1860ce7d81"
      },
      "execution_count": null,
      "outputs": [
        {
          "output_type": "stream",
          "name": "stdout",
          "text": [
            "E E E E E \n",
            "D D D D D \n",
            "C C C C C \n",
            "B B B B B \n",
            "A A A A A \n"
          ]
        }
      ]
    },
    {
      "cell_type": "code",
      "source": [
        "# pattern 30:\n",
        "\n",
        "for x in 'EDCBA':\n",
        "  for y in 'EDCBA':\n",
        "    print(y,end=\" \")\n",
        "  print()"
      ],
      "metadata": {
        "colab": {
          "base_uri": "https://localhost:8080/"
        },
        "id": "bOPu09sS4zrv",
        "outputId": "49445e97-2e19-46af-8946-73001a8a3325"
      },
      "execution_count": null,
      "outputs": [
        {
          "output_type": "stream",
          "name": "stdout",
          "text": [
            "E D C B A \n",
            "E D C B A \n",
            "E D C B A \n",
            "E D C B A \n",
            "E D C B A \n"
          ]
        }
      ]
    },
    {
      "cell_type": "code",
      "source": [
        "# another method:\n",
        "\n",
        "for x in range(1,6):\n",
        "  for y in range(69,64,-1):\n",
        "    print(chr(y),end=\" \")\n",
        "  print()"
      ],
      "metadata": {
        "colab": {
          "base_uri": "https://localhost:8080/"
        },
        "id": "pNoq4K_b4zpA",
        "outputId": "51850dbd-f158-4ede-cfe2-1e3a833f3fff"
      },
      "execution_count": null,
      "outputs": [
        {
          "output_type": "stream",
          "name": "stdout",
          "text": [
            "E D C B A \n",
            "E D C B A \n",
            "E D C B A \n",
            "E D C B A \n",
            "E D C B A \n"
          ]
        }
      ]
    },
    {
      "cell_type": "code",
      "source": [
        "# another meethod:\n",
        "\n",
        "for x in range(1,6):\n",
        "  for y in 'EDCBA':\n",
        "    print(y,end=\" \")\n",
        "  print()"
      ],
      "metadata": {
        "colab": {
          "base_uri": "https://localhost:8080/"
        },
        "id": "MUTC3NQk4zlO",
        "outputId": "efd7c39b-86cb-4f90-d6c7-06911725547c"
      },
      "execution_count": null,
      "outputs": [
        {
          "output_type": "stream",
          "name": "stdout",
          "text": [
            "E D C B A \n",
            "E D C B A \n",
            "E D C B A \n",
            "E D C B A \n",
            "E D C B A \n"
          ]
        }
      ]
    },
    {
      "cell_type": "code",
      "source": [
        "# pattern 31:\n",
        "char=65\n",
        "for i in range(5):\n",
        "  for j in range(5):\n",
        "    print(chr(char),end=\" \")\n",
        "    char=char+1\n",
        "  print()"
      ],
      "metadata": {
        "colab": {
          "base_uri": "https://localhost:8080/"
        },
        "id": "ccGkoqOj4zfu",
        "outputId": "a8ec97f9-46f9-4b43-d322-668f12479758"
      },
      "execution_count": null,
      "outputs": [
        {
          "output_type": "stream",
          "name": "stdout",
          "text": [
            "A B C D E \n",
            "F G H I J \n",
            "K L M N O \n",
            "P Q R S T \n",
            "U V W X Y \n"
          ]
        }
      ]
    },
    {
      "cell_type": "code",
      "source": [
        "# pattern 32:\n",
        "for i in range(5):\n",
        "  for j in range(5):\n",
        "    print(chr(ord('A')+i+j),end=\" \")\n",
        "  print()"
      ],
      "metadata": {
        "colab": {
          "base_uri": "https://localhost:8080/"
        },
        "id": "CdALYOt8_lEr",
        "outputId": "43ce6b55-dbb2-40b1-eb66-fb435a8bf397"
      },
      "execution_count": null,
      "outputs": [
        {
          "output_type": "stream",
          "name": "stdout",
          "text": [
            "A B C D E \n",
            "B C D E F \n",
            "C D E F G \n",
            "D E F G H \n",
            "E F G H I \n"
          ]
        }
      ]
    },
    {
      "cell_type": "code",
      "source": [
        "# # Outer loop for rows (5 rows in total)\n",
        "for i in range(5):\n",
        "    # Inner loop for columns (5 characters in each row)\n",
        "    for j in range(5):\n",
        "        # Calculate and print the character\n",
        "        print(chr(ord('A') + i + j * 5), end=\" \")\n",
        "    print()  # Move to the next line after each row\n"
      ],
      "metadata": {
        "id": "-BWWzCqiBD0W"
      },
      "execution_count": null,
      "outputs": []
    },
    {
      "cell_type": "code",
      "source": [
        "# PATTERN 33:\n",
        "for i in range(5):\n",
        "  for j in range(5):\n",
        "    print(chr(ord('A')+i+j*5),end=\" \") # 65,70,75  5 ka gap hai:\n",
        "  print()"
      ],
      "metadata": {
        "colab": {
          "base_uri": "https://localhost:8080/"
        },
        "id": "bhpwjucwBFxU",
        "outputId": "844e25d7-dd5e-4ef3-fdf3-73824f7022c9"
      },
      "execution_count": null,
      "outputs": [
        {
          "output_type": "stream",
          "name": "stdout",
          "text": [
            "A F K P U \n",
            "B G L Q V \n",
            "C H M R W \n",
            "D I N S X \n",
            "E J O T Y \n"
          ]
        }
      ]
    },
    {
      "cell_type": "code",
      "source": [
        "ord(\"A\")"
      ],
      "metadata": {
        "colab": {
          "base_uri": "https://localhost:8080/"
        },
        "id": "0oM05nyX_lB7",
        "outputId": "23d9047d-716d-46c5-b63e-e32129073098"
      },
      "execution_count": null,
      "outputs": [
        {
          "output_type": "execute_result",
          "data": {
            "text/plain": [
              "65"
            ]
          },
          "metadata": {},
          "execution_count": 17
        }
      ]
    },
    {
      "cell_type": "code",
      "source": [
        "ord(\"F\")"
      ],
      "metadata": {
        "colab": {
          "base_uri": "https://localhost:8080/"
        },
        "id": "t8McB_HX_k9r",
        "outputId": "b26420e3-f453-4c6b-ba8c-e995018b877f"
      },
      "execution_count": null,
      "outputs": [
        {
          "output_type": "execute_result",
          "data": {
            "text/plain": [
              "70"
            ]
          },
          "metadata": {},
          "execution_count": 18
        }
      ]
    },
    {
      "cell_type": "code",
      "source": [
        "ord(\"K\")"
      ],
      "metadata": {
        "colab": {
          "base_uri": "https://localhost:8080/"
        },
        "id": "YWHVgDD4_k7K",
        "outputId": "26642f7d-121c-4c26-a7b0-f1cf3d3ba6cf"
      },
      "execution_count": null,
      "outputs": [
        {
          "output_type": "execute_result",
          "data": {
            "text/plain": [
              "75"
            ]
          },
          "metadata": {},
          "execution_count": 19
        }
      ]
    },
    {
      "cell_type": "code",
      "source": [
        "ord(\"P\")"
      ],
      "metadata": {
        "colab": {
          "base_uri": "https://localhost:8080/"
        },
        "id": "Gl36q1EtA2DU",
        "outputId": "c8044f26-4484-48ac-f3f2-83a6043a7db0"
      },
      "execution_count": null,
      "outputs": [
        {
          "output_type": "execute_result",
          "data": {
            "text/plain": [
              "80"
            ]
          },
          "metadata": {},
          "execution_count": 20
        }
      ]
    },
    {
      "cell_type": "code",
      "source": [
        "ord(\"U\")"
      ],
      "metadata": {
        "colab": {
          "base_uri": "https://localhost:8080/"
        },
        "id": "dffr-Wl4A6Km",
        "outputId": "ea9ca8ca-9b1b-4ab2-ba0f-7e89b2de37d1"
      },
      "execution_count": null,
      "outputs": [
        {
          "output_type": "execute_result",
          "data": {
            "text/plain": [
              "85"
            ]
          },
          "metadata": {},
          "execution_count": 21
        }
      ]
    },
    {
      "cell_type": "code",
      "source": [
        "# pattern 34:\n",
        "\n",
        "# Outer loop for rows (5 rows in total, iterating in reverse order)\n",
        "for i in range(4, -1, -1):  # Start from 4 down to 0\n",
        "    # Inner loop for columns (5 characters in each row)\n",
        "    for j in range(5):\n",
        "        # Calculate and print the character\n",
        "        print(chr(ord('A') + i + j * 5), end=\" \")\n",
        "    print()  # Move to the next line after each row\n",
        "\n"
      ],
      "metadata": {
        "colab": {
          "base_uri": "https://localhost:8080/"
        },
        "id": "m92xbiPyA-l0",
        "outputId": "84ffa9fe-a84a-4d4f-9f4b-1cb4e7f95624"
      },
      "execution_count": null,
      "outputs": [
        {
          "output_type": "stream",
          "name": "stdout",
          "text": [
            "E J O T Y \n",
            "D I N S X \n",
            "C H M R W \n",
            "B G L Q V \n",
            "A F K P U \n"
          ]
        }
      ]
    },
    {
      "cell_type": "code",
      "source": [],
      "metadata": {
        "id": "Fmig1QTDCRC1"
      },
      "execution_count": null,
      "outputs": []
    }
  ]
}